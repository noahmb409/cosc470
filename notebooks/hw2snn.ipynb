{
 "cells": [
  {
   "cell_type": "markdown",
   "id": "3bb67599",
   "metadata": {},
   "source": [
    "# HW 2 - Simple Neural Networks\n",
    "\n",
    "Part 1: In this first real coding assignment, you will initially explore the operation of a single perceptron (more for historical value than for modern usefulness) and a single Sigmoid neuron to implement the \"real world\" example of going to a cheese festival.\n",
    "\n",
    "Part 2: In the second part, you will switch over to using the author's code to complete a full neural network that can recognize handwritten digits. You will train and run the network monitoring both how long it takes to train AND the test accuracy once training is complete.\n",
    "\n",
    "Part 3: In the third part, you will experiment with hyper-parameters such as the number of epochs, the batch size, and the learning rate. Again, you will monitor the training time and the test accuracy after training is complete.\n",
    "\n",
    "Part 4: In the final part, you will experiment with the network structure itself by changing the number of neurons in the hidden layer. You will again report the training time and test accuracy, but this time you will also report the evaluation time.\n"
   ]
  },
  {
   "cell_type": "code",
   "execution_count": 11,
   "id": "38d25619",
   "metadata": {},
   "outputs": [],
   "source": [
    "from abc import abstractmethod\n",
    "class Neuron:\n",
    "  def __init__(self, w, b):\n",
    "    self.w = w\n",
    "    self.b = b\n",
    "\n",
    "  @abstractmethod\n",
    "  def output(self, x):\n",
    "    pass"
   ]
  },
  {
   "cell_type": "code",
   "execution_count": 12,
   "id": "d446292e",
   "metadata": {},
   "outputs": [],
   "source": [
    "import math\n",
    "\n",
    "class Perceptron(Neuron):\n",
    "  def __init__(self, w, b):\n",
    "    super().__init__(w, b)\n",
    "\n",
    "  \"\"\"\n",
    "    x: list of inputs ... must be same length as w\n",
    "    return 0 or 1 based on classic perceptron calculation weighted sum of inputs plus bias must be strictly greater than 0 to produce a 1 otherwise return a 0\n",
    "  \"\"\"\n",
    "  def output(self, x):\n",
    "    z = 0\n",
    "    for i in range(len(self.w)):\n",
    "      z = z + self.w[i]*x[i]\n",
    "    z = z + self.b\n",
    "    return 0 if z <= 0 else 1\n",
    "\n",
    "class SigmoidNeuron(Neuron):\n",
    "  def __init__(self, w, b):\n",
    "    super().__init__(w, b)\n",
    "\n",
    "  \"\"\"\n",
    "    x: list of inputs ... must be same length as w\n",
    "    return 0 or 1 based on classic perceptron calculation weighted sum of inputs plus bias must be strictly greater than 0 to produce a 1 otherwise return a 0\n",
    "  \"\"\"\n",
    "  def output(self, x):\n",
    "    z = 0\n",
    "    for i in range(len(self.w)):\n",
    "      z = z + self.w[i]*x[i]\n",
    "    z = z + self.b\n",
    "    return 1/(1+math.exp(-z))\n"
   ]
  },
  {
   "cell_type": "code",
   "execution_count": 14,
   "id": "f43d4a5f",
   "metadata": {},
   "outputs": [
    {
     "name": "stdout",
     "output_type": "stream",
     "text": [
      "1\n",
      "0\n",
      "0.9933071490757153\n",
      "0.2689414213699951\n"
     ]
    }
   ],
   "source": [
    "# PART 1a - instantiate a single Perceptron with the weights described in Chapter 1 for going to the festival. Then print out the output of calling the \"output\" function on that neuron with three combinations of inputs for the weather, girlfiend, and public transit inputs.\n",
    "p = Perceptron([6,2,2], -5)\n",
    "x = [1, 1, 1]\n",
    "a = p.output(x)\n",
    "print(a)\n",
    "x = [0,1,1]\n",
    "a = p.output(x)\n",
    "print(a)\n",
    "\n",
    "# PART 2b - repeat Part1a, but this time use a SigmoidNueron instead. Compare the output with Part 1a and explain in a comment how this part using a SigmoidNeuron could still give you the \"right\" answer about whether to go or not.\n",
    "s = SigmoidNeuron([6,2,2], -5)\n",
    "x = [1, 1, 1]\n",
    "a = s.output(x)\n",
    "print(a)\n",
    "x = [0,1,1]\n",
    "a = s.output(x)\n",
    "print(a)"
   ]
  },
  {
   "cell_type": "code",
   "execution_count": 16,
   "id": "54278848",
   "metadata": {},
   "outputs": [
    {
     "name": "stdout",
     "output_type": "stream",
     "text": [
      "/workspaces/cosc470\n",
      "/workspaces/cosc470\n",
      "fatal: destination path 'nn' already exists and is not an empty directory.\n"
     ]
    }
   ],
   "source": [
    "# PART 2 - run the code below to download your author's code and then train and evaluate the network. ****Make note of the total training time and test accuracy****\n",
    "#%cd /content \n",
    "%cd \"/workspaces/cosc470/\" \n",
    "!pwd\n",
    "!git clone \"https://github.com/MichalDanielDobrzanski/DeepLearningPython\" nn\n",
    "\n",
    "\n",
    "\n"
   ]
  },
  {
   "cell_type": "code",
   "execution_count": 18,
   "id": "8862b19a",
   "metadata": {},
   "outputs": [
    {
     "name": "stdout",
     "output_type": "stream",
     "text": [
      "/workspaces/cosc470/nn\n",
      "50000\n",
      "10000\n"
     ]
    }
   ],
   "source": [
    "# load the data into memory (training_data and test_data numpy arrays)\n",
    "%cd nn\n",
    "import mnist_loader\n",
    "training_data, validation_data, test_data = mnist_loader.load_data_wrapper()\n",
    "training_data = list(training_data)\n",
    "test_data = list(test_data)\n",
    "print(len(training_data))\n",
    "print(len(test_data))"
   ]
  },
  {
   "cell_type": "code",
   "execution_count": null,
   "id": "812336cf",
   "metadata": {},
   "outputs": [
    {
     "name": "stdout",
     "output_type": "stream",
     "text": [
      "[array([[-0.97267416],\n",
      "       [ 1.39971698],\n",
      "       [-1.24184921],\n",
      "       [-0.08074179],\n",
      "       [-0.63780932],\n",
      "       [ 0.16626981],\n",
      "       [ 0.10926583],\n",
      "       [ 0.12766161],\n",
      "       [ 1.58608177],\n",
      "       [-1.29319229],\n",
      "       [ 1.32296124],\n",
      "       [ 0.26406592],\n",
      "       [ 0.00371258],\n",
      "       [ 0.12397413],\n",
      "       [ 1.48997669],\n",
      "       [ 1.03398453],\n",
      "       [-0.8465924 ],\n",
      "       [ 0.37013332],\n",
      "       [ 2.9263197 ],\n",
      "       [ 0.62304633],\n",
      "       [ 0.20467051],\n",
      "       [-0.67946466],\n",
      "       [ 0.01215531],\n",
      "       [ 1.08780124],\n",
      "       [-0.94840867],\n",
      "       [ 0.66107465],\n",
      "       [ 0.41305093],\n",
      "       [-1.34204807],\n",
      "       [-1.02482694],\n",
      "       [ 1.42333789]]), array([[-0.93079086],\n",
      "       [ 0.2361217 ],\n",
      "       [ 0.34851127],\n",
      "       [-0.53707897],\n",
      "       [-0.10232333],\n",
      "       [ 0.06342419],\n",
      "       [-0.33952082],\n",
      "       [ 0.16555794],\n",
      "       [-0.54769768],\n",
      "       [ 1.6791182 ]])]\n",
      "Epoch 0 : 9064 / 10000\n",
      "Epoch 1 : 9154 / 10000\n",
      "Epoch 2 : 9252 / 10000\n",
      "Epoch 3 : 9348 / 10000\n",
      "Epoch 4 : 9314 / 10000\n",
      "Epoch 5 : 9356 / 10000\n",
      "Epoch 6 : 9373 / 10000\n",
      "Epoch 7 : 9376 / 10000\n",
      "Epoch 8 : 9370 / 10000\n",
      "Epoch 9 : 9423 / 10000\n",
      "Epoch 10 : 9419 / 10000\n",
      "Epoch 11 : 9432 / 10000\n",
      "Epoch 12 : 9432 / 10000\n",
      "Epoch 13 : 9409 / 10000\n",
      "Epoch 14 : 9438 / 10000\n",
      "Epoch 15 : 9458 / 10000\n",
      "Epoch 16 : 9470 / 10000\n",
      "Epoch 17 : 9438 / 10000\n",
      "Epoch 18 : 9453 / 10000\n",
      "Epoch 19 : 9444 / 10000\n"
     ]
    }
   ],
   "source": [
    "# default run with default hyperparameters - 20 epochs, batch size of 10, and learning rate of 3.0\n",
    "\n",
    "import importlib\n",
    "import network\n",
    "importlib.reload(network)\n",
    "net = network.Network([784, 30, 10])\n",
    "print(net.biases)\n",
    "net.SGD(training_data, 20, 10, 3.0, test_data=test_data) #batch size means how many images looked at before changes are made, once all 50,000 images are run through once that is epoch 1"
   ]
  },
  {
   "cell_type": "code",
   "execution_count": null,
   "id": "0b205e35",
   "metadata": {},
   "outputs": [],
   "source": [
    "# PART 3 - experiment with the hyperparameters ... try the following combinations\n",
    "# Varying the number of epochs: 5, 10, 15, 30 (see below)\n",
    "# 5, 10, 3.0\n",
    "# 10, 10, 3.0\n",
    "# 15, 10, 3.0\n",
    "# 30, 10, 3.0\n",
    "\n",
    "# Varying the batch size: 5, 20, 30\n",
    "# 20, 5, 3.0\n",
    "# 20, 20, 3.0\n",
    "# 20, 30, 3.0\n",
    "\n",
    "# Varying the learning rate: 2.5, 3.5, 4.0\n",
    "# 20, 10, 2.5\n",
    "# 20, 10, 3.5\n",
    "# 20, 10, 4.0\n",
    "\n",
    "\n",
    "# After all 10 RUNS plus your original run with the defaults (20, 10, 3.0), plot your timing results and final test accuracy in a single chart using matplotlib\n",
    "\n"
   ]
  },
  {
   "cell_type": "code",
   "execution_count": null,
   "id": "8bee4ce8",
   "metadata": {},
   "outputs": [],
   "source": [
    "# PART 4 - experiment with network structure, just try three different configurations\n",
    "# [784, 10, 10], [784, 50, 10], and [784, 100, 10]\n",
    "\n",
    "# After these 3 runs, plot your training timing results, test accuracy, AND evaluation timing\n",
    "# To measure the evaluation time, manually test 100 samples from the test dataset, measure how long that takes and divide by 100 to get a per/image evaluate rate\n",
    "\n",
    "# Use Matplotlib to plot ALL THREE results (training time, test accuracy, and evaluation rate) on three different axes\n"
   ]
  }
 ],
 "metadata": {
  "kernelspec": {
   "display_name": "Python 3",
   "language": "python",
   "name": "python3"
  },
  "language_info": {
   "codemirror_mode": {
    "name": "ipython",
    "version": 3
   },
   "file_extension": ".py",
   "mimetype": "text/x-python",
   "name": "python",
   "nbconvert_exporter": "python",
   "pygments_lexer": "ipython3",
   "version": "3.12.1"
  }
 },
 "nbformat": 4,
 "nbformat_minor": 5
}
