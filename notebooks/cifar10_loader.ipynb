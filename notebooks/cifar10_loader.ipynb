{
 "cells": [
  {
   "cell_type": "markdown",
   "id": "9bf7c419",
   "metadata": {},
   "source": [
    "# CIFAR-10: Download & Load (Raw Format)\n",
    "\n",
    "This notebook downloads the **raw CIFAR-10 (python version)**, extracts it, loads batches with pure Python/NumPy, and shows a sample image with its class name.\n"
   ]
  },
  {
   "cell_type": "code",
   "execution_count": 1,
   "id": "e47f71ff",
   "metadata": {},
   "outputs": [
    {
     "name": "stdout",
     "output_type": "stream",
     "text": [
      "--2025-09-09 19:45:15--  https://www.cs.toronto.edu/~kriz/cifar-10-python.tar.gz\n",
      "Resolving www.cs.toronto.edu (www.cs.toronto.edu)... 128.100.3.30\n",
      "Connecting to www.cs.toronto.edu (www.cs.toronto.edu)|128.100.3.30|:443... connected.\n",
      "HTTP request sent, awaiting response... 200 OK\n",
      "Length: 170498071 (163M) [application/x-gzip]\n",
      "Saving to: ‘cifar-10-python.tar.gz’\n",
      "\n",
      "cifar-10-python.tar 100%[===================>] 162.60M  52.6MB/s    in 3.2s    \n",
      "\n",
      "2025-09-09 19:45:19 (50.4 MB/s) - ‘cifar-10-python.tar.gz’ saved [170498071/170498071]\n",
      "\n",
      "total 181876\n",
      "-rw-r--r-- 1 codespace codespace      158 Mar 31  2009 batches.meta\n",
      "-rw-r--r-- 1 codespace codespace 31035704 Mar 31  2009 data_batch_1\n",
      "-rw-r--r-- 1 codespace codespace 31035320 Mar 31  2009 data_batch_2\n",
      "-rw-r--r-- 1 codespace codespace 31035999 Mar 31  2009 data_batch_3\n",
      "-rw-r--r-- 1 codespace codespace 31035696 Mar 31  2009 data_batch_4\n",
      "-rw-r--r-- 1 codespace codespace 31035623 Mar 31  2009 data_batch_5\n",
      "-rw-r--r-- 1 codespace codespace       88 Jun  4  2009 readme.html\n",
      "-rw-r--r-- 1 codespace codespace 31035526 Mar 31  2009 test_batch\n"
     ]
    }
   ],
   "source": [
    "# --- Step 1: Download (original source) ---\n",
    "# If this cell fails due to network restrictions in your environment,\n",
    "# you can manually download the file and place it next to this notebook.\n",
    "!wget -O cifar-10-python.tar.gz https://www.cs.toronto.edu/~kriz/cifar-10-python.tar.gz\n",
    "\n",
    "# --- Step 2: Extract (two-stage using gunzip, then tar) ---\n",
    "# You asked to include !gunzip specifically; this expands the .tar.gz into a .tar\n",
    "!gunzip -f cifar-10-python.tar.gz\n",
    "\n",
    "# Now extract the resulting tar archive\n",
    "!tar -xf cifar-10-python.tar\n",
    "\n",
    "# The files will be in ./cifar-10-batches-py/\n",
    "!ls -l cifar-10-batches-py | head -n 15\n"
   ]
  },
  {
   "cell_type": "code",
   "execution_count": 2,
   "id": "e4839ac1",
   "metadata": {},
   "outputs": [],
   "source": [
    "# --- Step 3: Loader utilities (no Keras/torchvision) ---\n",
    "import pickle\n",
    "import numpy as np\n",
    "import os\n",
    "\n",
    "def load_cifar_batch(filename):\n",
    "    \"\"\"Load a single CIFAR-10 batch file and return (data, labels, filenames).\n",
    "    - data: (N, 32, 32, 3) uint8\n",
    "    - labels: (N,) int\n",
    "    - filenames: list of N strings\n",
    "    \"\"\"\n",
    "    with open(filename, 'rb') as f:\n",
    "        batch = pickle.load(f, encoding='latin1')  # needed for python3\n",
    "    data = batch['data']            # shape (10000, 3072)\n",
    "    labels = batch.get('labels', batch.get('fine_labels'))  # fallback for CIFAR-100 style keys\n",
    "    filenames = batch.get('filenames', None)\n",
    "    \n",
    "    # reshape to (N, 32, 32, 3) from channel-major flat (R 1024, G 1024, B 1024)\n",
    "    data = data.reshape(len(data), 3, 32, 32).transpose(0, 2, 3, 1)\n",
    "    return data, np.array(labels), filenames\n",
    "\n",
    "def load_cifar_meta(root):\n",
    "    \"\"\"Load label names (class names) from batches.meta.\"\"\"\n",
    "    meta_path = os.path.join(root, 'batches.meta')\n",
    "    with open(meta_path, 'rb') as f:\n",
    "        meta = pickle.load(f, encoding='latin1')\n",
    "    # For CIFAR-10, 'label_names' is a list of 10 class names\n",
    "    label_names = meta.get('label_names', None)\n",
    "    return label_names\n",
    "\n",
    "def load_cifar10(root='cifar-10-batches-py'):\n",
    "    \"\"\"Load entire CIFAR-10 (train + test). Returns:\n",
    "        (X_train, y_train, X_test, y_test, class_names)\n",
    "    Where:\n",
    "        - X_* : (N, 32, 32, 3) uint8\n",
    "        - y_* : (N,) int (0..9)\n",
    "        - class_names: list of 10 strings\n",
    "    \"\"\"\n",
    "    train_data, train_labels = [], []\n",
    "    for i in range(1, 6):\n",
    "        data, labels, _ = load_cifar_batch(os.path.join(root, f'data_batch_{i}'))\n",
    "        train_data.append(data)\n",
    "        train_labels.append(labels)\n",
    "    X_train = np.concatenate(train_data, axis=0)\n",
    "    y_train = np.concatenate(train_labels, axis=0)\n",
    "\n",
    "    X_test, y_test, _ = load_cifar_batch(os.path.join(root, 'test_batch'))\n",
    "    class_names = load_cifar_meta(root)\n",
    "    return X_train, y_train, X_test, y_test, class_names\n"
   ]
  },
  {
   "cell_type": "code",
   "execution_count": 3,
   "id": "f0074500",
   "metadata": {},
   "outputs": [
    {
     "name": "stdout",
     "output_type": "stream",
     "text": [
      "Train: (50000, 32, 32, 3) (50000,) uint8\n",
      "Test : (10000, 32, 32, 3) (10000,) uint8\n",
      "Classes: ['airplane', 'automobile', 'bird', 'cat', 'deer', 'dog', 'frog', 'horse', 'ship', 'truck']\n"
     ]
    }
   ],
   "source": [
    "# --- Step 4: Load all data ---\n",
    "X_train, y_train, X_test, y_test, class_names = load_cifar10('cifar-10-batches-py')\n",
    "print('Train:', X_train.shape, y_train.shape, X_train.dtype)\n",
    "print('Test :', X_test.shape, y_test.shape, X_test.dtype)\n",
    "print('Classes:', class_names)\n"
   ]
  },
  {
   "cell_type": "code",
   "execution_count": 4,
   "id": "b3b290dd",
   "metadata": {},
   "outputs": [
    {
     "data": {
      "image/png": "[encoded data removed]",
      "text/plain": [
       "<Figure size 640x480 with 1 Axes>"
      ]
     },
     "metadata": {},
     "output_type": "display_data"
    }
   ],
   "source": [
    "# --- Step 5: Visualize one sample ---\n",
    "import matplotlib.pyplot as plt\n",
    "\n",
    "idx = 0  # try different numbers to preview other images\n",
    "img = X_train[idx]\n",
    "label = y_train[idx]\n",
    "name = class_names[label] if class_names else str(label)\n",
    "\n",
    "plt.imshow(img)\n",
    "plt.title(f'Label: {label} ({name})')\n",
    "plt.axis('off')\n",
    "plt.show()\n"
   ]
  }
 ],
 "metadata": {
  "kernelspec": {
   "display_name": "Python 3",
   "language": "python",
   "name": "python3"
  },
  "language_info": {
   "codemirror_mode": {
    "name": "ipython",
    "version": 3
   },
   "file_extension": ".py",
   "mimetype": "text/x-python",
   "name": "python",
   "nbconvert_exporter": "python",
   "pygments_lexer": "ipython3",
   "version": "3.12.1"
  }
 },
 "nbformat": 4,
 "nbformat_minor": 5
}
