{
 "cells": [
  {
   "cell_type": "markdown",
   "id": "3bb67599",
   "metadata": {},
   "source": [
    "### HW 3 - Chapter 3 - Improving the way neural networks learn\n",
    "\n",
    "Part 1: Single neuron network experiment\n",
    "\n",
    "Part 2: MNIST neural network experiment\n",
    "\n",
    "Part 3: CIFAR10 dataset exploration\n",
    "\n",
    "Part 4: CIFAR10 neural network experiment\n"
   ]
  },
  {
   "cell_type": "code",
   "execution_count": 38,
   "id": "54278848",
   "metadata": {},
   "outputs": [
    {
     "name": "stdout",
     "output_type": "stream",
     "text": [
      "/home/jupyter-develop/cosc470\n",
      "/home/jupyter-develop/cosc470\n",
      "Cloning into 'nn'...\n",
      "remote: Enumerating objects: 63, done.\u001b[K\n",
      "remote: Counting objects: 100% (42/42), done.\u001b[K\n",
      "remote: Compressing objects: 100% (14/14), done.\u001b[K\n",
      "remote: Total 63 (delta 30), reused 28 (delta 28), pack-reused 21 (from 1)\u001b[K\n",
      "Receiving objects: 100% (63/63), 16.43 MiB | 40.64 MiB/s, done.\n",
      "Resolving deltas: 100% (31/31), done.\n"
     ]
    }
   ],
   "source": [
    "# PART 2 - run the code below to download your author's code and then train and evaluate the network. ****Make note of the total training time and test accuracy****\n",
    "#%cd /content \n",
    "#%cd \"/workspaces/cosc470/\" \n",
    "%cd \"~/cosc470\"\n",
    "!rm -rf nn\n",
    "!pwd\n",
    "!git clone \"https://github.com/MichalDanielDobrzanski/DeepLearningPython\" nn\n",
    "\n",
    "\n",
    "\n"
   ]
  },
  {
   "cell_type": "code",
   "execution_count": 36,
   "id": "812336cf",
   "metadata": {},
   "outputs": [
    {
     "ename": "SyntaxError",
     "evalue": "invalid syntax (2821856687.py, line 7)",
     "output_type": "error",
     "traceback": [
      "  \u001b[36mCell\u001b[39m\u001b[36m \u001b[39m\u001b[32mIn[36]\u001b[39m\u001b[32m, line 7\u001b[39m\n\u001b[31m    \u001b[39m\u001b[31mnet = network2.Network(??? WHAT GOES HERE ???)\u001b[39m\n                           ^\n\u001b[31mSyntaxError\u001b[39m\u001b[31m:\u001b[39m invalid syntax\n"
     ]
    }
   ],
   "source": [
    "# PART 1 - single neuron network with different activation functions\n",
    "%cd \"~/cosc470/nn\"\n",
    "import importlib\n",
    "import network2\n",
    "import numpy as np\n",
    "importlib.reload(network2)\n",
    "net = network2.Network(??? WHAT GOES HERE ???, cost=QuadraticCost)  cost=CrossEntropyCost\n",
    "training_data = [np.array(([i%2], [(i+1)%2])) for i in range(100)]\n",
    "test_data = [\n",
    "    (np.array([[i % 2]], dtype=np.float32), np.int64((i + 1) % 2))\n",
    "    for i in range(100)\n",
    "]\n",
    "\n",
    "# RUN YOUR EXPERIMENT HERE\n",
    "(???, ???, ???, ???) = net.SGD(training_data, 300, 10, 0.15, evaluation_data=test_data, monitor_training_cost=True)\n",
    "\n",
    "# RE-RUN WITH CrossEntropyCost\n",
    "importlib.reload(network2)\n",
    "net = network2.Network(??? WHAT GOES HERE ???, cost=CrossEntropyCost)\n"
   ]
  },
  {
   "cell_type": "code",
   "execution_count": null,
   "id": "8862b19a",
   "metadata": {},
   "outputs": [],
   "source": [
    "# PART 2 MONITOR AND REPORT TRAINING TIME, ACCURACY, AND EVALUATION TIME FOR BOTH COST FUNCTIONS\n",
    "#%cd nn\n",
    "import mnist_loader\n",
    "training_data, validation_data, test_data = mnist_loader.load_data_wrapper()\n",
    "training_data = list(training_data)\n",
    "test_data = list(test_data)\n",
    "import numpy as np\n",
    "np.set_printoptions(linewidth=400)\n",
    "firstimage = np.reshape(training_data[5][0],(28,28))\n",
    "firstimage_r = np.round(firstimage, decimals=2)\n",
    "print(firstimage_r)\n",
    "print(training_data[5][1])\n",
    "\n"
   ]
  },
  {
   "cell_type": "code",
   "execution_count": null,
   "id": "25970010-93cb-4b82-a91d-866c14f0d725",
   "metadata": {},
   "outputs": [],
   "source": []
  }
 ],
 "metadata": {
  "kernelspec": {
   "display_name": "Python 3 (ipykernel)",
   "language": "python",
   "name": "python3"
  },
  "language_info": {
   "codemirror_mode": {
    "name": "ipython",
    "version": 3
   },
   "file_extension": ".py",
   "mimetype": "text/x-python",
   "name": "python",
   "nbconvert_exporter": "python",
   "pygments_lexer": "ipython3",
   "version": "3.12.6"
  }
 },
 "nbformat": 4,
 "nbformat_minor": 5
}
